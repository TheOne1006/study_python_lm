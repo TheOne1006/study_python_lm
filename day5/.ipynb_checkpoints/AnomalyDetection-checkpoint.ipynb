{
 "cells": [
  {
   "cell_type": "markdown",
   "metadata": {},
   "source": [
    "异常检测实战task：\n",
    "1、基于 anomaly_data.csv数据，可视化数据分布情况、及其对应高斯分布的概率密度函数\n",
    "2、建立模型，实现异常数据点预测\n",
    "3、可视化异常检测处理结果\n",
    "4、修改概率分布阈值EllipticEnvelope(contamination=0.1)中的contamination，查看阈值改变对结果的影响"
   ]
  },
  {
   "cell_type": "code",
   "execution_count": 2,
   "metadata": {},
   "outputs": [
    {
     "data": {
      "text/html": [
       "<div>\n",
       "<style>\n",
       "    .dataframe thead tr:only-child th {\n",
       "        text-align: right;\n",
       "    }\n",
       "\n",
       "    .dataframe thead th {\n",
       "        text-align: left;\n",
       "    }\n",
       "\n",
       "    .dataframe tbody tr th {\n",
       "        vertical-align: top;\n",
       "    }\n",
       "</style>\n",
       "<table border=\"1\" class=\"dataframe\">\n",
       "  <thead>\n",
       "    <tr style=\"text-align: right;\">\n",
       "      <th></th>\n",
       "      <th>x1</th>\n",
       "      <th>x2</th>\n",
       "    </tr>\n",
       "  </thead>\n",
       "  <tbody>\n",
       "    <tr>\n",
       "      <th>0</th>\n",
       "      <td>8.046815</td>\n",
       "      <td>9.741152</td>\n",
       "    </tr>\n",
       "    <tr>\n",
       "      <th>1</th>\n",
       "      <td>8.408520</td>\n",
       "      <td>8.763270</td>\n",
       "    </tr>\n",
       "    <tr>\n",
       "      <th>2</th>\n",
       "      <td>9.195915</td>\n",
       "      <td>10.853181</td>\n",
       "    </tr>\n",
       "    <tr>\n",
       "      <th>3</th>\n",
       "      <td>9.914701</td>\n",
       "      <td>11.174260</td>\n",
       "    </tr>\n",
       "    <tr>\n",
       "      <th>4</th>\n",
       "      <td>8.576700</td>\n",
       "      <td>9.042849</td>\n",
       "    </tr>\n",
       "  </tbody>\n",
       "</table>\n",
       "</div>"
      ],
      "text/plain": [
       "         x1         x2\n",
       "0  8.046815   9.741152\n",
       "1  8.408520   8.763270\n",
       "2  9.195915  10.853181\n",
       "3  9.914701  11.174260\n",
       "4  8.576700   9.042849"
      ]
     },
     "execution_count": 2,
     "metadata": {},
     "output_type": "execute_result"
    }
   ],
   "source": [
    "import pandas as pd\n",
    "import numpy as np\n",
    "data = pd.read_csv(\"anomaly_data.csv\")\n",
    "data.head()"
   ]
  },
  {
   "cell_type": "code",
   "execution_count": 7,
   "metadata": {},
   "outputs": [
    {
     "data": {
      "image/png": "[encoded data removed]",
      "text/plain": [
       "<Figure size 720x360 with 1 Axes>"
      ]
     },
     "metadata": {
      "needs_background": "light"
     },
     "output_type": "display_data"
    }
   ],
   "source": [
    "# 可视化\n",
    "from matplotlib import pyplot as plt\n",
    "fig1 = plt.figure(figsize=(10, 5))\n",
    "plt.scatter(data.loc[:,'x1'],data.loc[:,'x2'])\n",
    "plt.title('data')\n",
    "plt.xlabel('x1')\n",
    "plt.ylabel('x2')\n",
    "plt.show()\n"
   ]
  },
  {
   "cell_type": "code",
   "execution_count": 9,
   "metadata": {},
   "outputs": [],
   "source": [
    "# 赋值\n",
    "x1 = data.loc[:,'x1']\n",
    "x2 = data.loc[:,'x2']"
   ]
  },
  {
   "cell_type": "code",
   "execution_count": 13,
   "metadata": {},
   "outputs": [
    {
     "data": {
      "image/png": "[encoded data removed]",
      "text/plain": [
       "<Figure size 1440x360 with 2 Axes>"
      ]
     },
     "metadata": {
      "needs_background": "light"
     },
     "output_type": "display_data"
    }
   ],
   "source": [
    "# 数据分布可视化\n",
    "fig2 = plt.figure(figsize=(20,5))\n",
    "plt.subplot(121)\n",
    "plt.hist(x1, bins =100)\n",
    "plt.title('x1 distribution')\n",
    "plt.ylabel('count')\n",
    "plt.xlabel('x1')\n",
    "\n",
    "plt.subplot(122)\n",
    "plt.hist(x2, bins =100)\n",
    "plt.title('x2 distribution')\n",
    "plt.ylabel('count')\n",
    "plt.xlabel('x2')\n",
    "\n",
    "plt.show()"
   ]
  },
  {
   "cell_type": "code",
   "execution_count": 14,
   "metadata": {},
   "outputs": [
    {
     "name": "stdout",
     "output_type": "stream",
     "text": [
      "9.112225783931596 1.3559573758220915 9.997710507954398 1.30970711753864\n"
     ]
    }
   ],
   "source": [
    "# 高斯分布，求均值，标准差\n",
    "x1_mean = x1.mean()\n",
    "x1_sigma= x1.std()\n",
    "x2_mean = x2.mean()\n",
    "x2_sigma= x2.std()\n",
    "\n",
    "print(x1_mean, x1_sigma, x2_mean, x2_sigma)"
   ]
  },
  {
   "cell_type": "code",
   "execution_count": null,
   "metadata": {},
   "outputs": [],
   "source": [
    "# 计算高斯分布概率密度\n",
    "from scipy.stats import norm\n",
    "# 0 - 20 有 300 个点的分布\n",
    "x1_range = np.linspace(0, 20, 300)"
   ]
  }
 ],
 "metadata": {
  "kernelspec": {
   "display_name": "Python 3",
   "language": "python",
   "name": "python3"
  },
  "language_info": {
   "codemirror_mode": {
    "name": "ipython",
    "version": 3
   },
   "file_extension": ".py",
   "mimetype": "text/x-python",
   "name": "python",
   "nbconvert_exporter": "python",
   "pygments_lexer": "ipython3",
   "version": "3.6.10"
  }
 },
 "nbformat": 4,
 "nbformat_minor": 4
}
