{
 "cells": [
  {
   "cell_type": "markdown",
   "metadata": {},
   "source": [
    "**任务:**\n",
    "\n",
    "1、基于chip_test.csv数据，建立逻辑回归模型(二阶边界)，评估模型表现；  \n",
    "2、以函数的方式求解边界曲线  \n",
    "3、描绘出完整的决策边界曲线  "
   ]
  },
  {
   "cell_type": "code",
   "execution_count": 3,
   "metadata": {},
   "outputs": [
    {
     "data": {
      "text/html": [
       "<div>\n",
       "<style>\n",
       "    .dataframe thead tr:only-child th {\n",
       "        text-align: right;\n",
       "    }\n",
       "\n",
       "    .dataframe thead th {\n",
       "        text-align: left;\n",
       "    }\n",
       "\n",
       "    .dataframe tbody tr th {\n",
       "        vertical-align: top;\n",
       "    }\n",
       "</style>\n",
       "<table border=\"1\" class=\"dataframe\">\n",
       "  <thead>\n",
       "    <tr style=\"text-align: right;\">\n",
       "      <th></th>\n",
       "      <th>test1</th>\n",
       "      <th>test2</th>\n",
       "      <th>pass</th>\n",
       "    </tr>\n",
       "  </thead>\n",
       "  <tbody>\n",
       "    <tr>\n",
       "      <th>0</th>\n",
       "      <td>0.051267</td>\n",
       "      <td>0.69956</td>\n",
       "      <td>1</td>\n",
       "    </tr>\n",
       "    <tr>\n",
       "      <th>1</th>\n",
       "      <td>-0.092742</td>\n",
       "      <td>0.68494</td>\n",
       "      <td>1</td>\n",
       "    </tr>\n",
       "    <tr>\n",
       "      <th>2</th>\n",
       "      <td>-0.213710</td>\n",
       "      <td>0.69225</td>\n",
       "      <td>1</td>\n",
       "    </tr>\n",
       "    <tr>\n",
       "      <th>3</th>\n",
       "      <td>-0.375000</td>\n",
       "      <td>0.50219</td>\n",
       "      <td>1</td>\n",
       "    </tr>\n",
       "    <tr>\n",
       "      <th>4</th>\n",
       "      <td>0.183760</td>\n",
       "      <td>0.93348</td>\n",
       "      <td>0</td>\n",
       "    </tr>\n",
       "  </tbody>\n",
       "</table>\n",
       "</div>"
      ],
      "text/plain": [
       "      test1    test2  pass\n",
       "0  0.051267  0.69956     1\n",
       "1 -0.092742  0.68494     1\n",
       "2 -0.213710  0.69225     1\n",
       "3 -0.375000  0.50219     1\n",
       "4  0.183760  0.93348     0"
      ]
     },
     "execution_count": 3,
     "metadata": {},
     "output_type": "execute_result"
    }
   ],
   "source": [
    "# 加载数据\n",
    "import pandas as pd\n",
    "import numpy as np\n",
    "data = pd.read_csv(\"chip_test.csv\")\n",
    "data.head()"
   ]
  },
  {
   "cell_type": "code",
   "execution_count": 9,
   "metadata": {},
   "outputs": [
    {
     "data": {
      "image/png": "[encoded data removed]",
      "text/plain": [
       "<Figure size 432x288 with 1 Axes>"
      ]
     },
     "metadata": {
      "needs_background": "light"
     },
     "output_type": "display_data"
    }
   ],
   "source": [
    "# 可视化\n",
    "from matplotlib import pyplot as plt\n",
    "mask=data.loc[:,'pass']==1\n",
    "fig1 = plt.figure()\n",
    "passed=plt.scatter(data.loc[:,'test1'][mask],data.loc[:,'test2'][mask])\n",
    "failed=plt.scatter(data.loc[:,'test1'][~mask],data.loc[:,'test2'][~mask])\n",
    "plt.title('chip')\n",
    "plt.xlabel('test1')\n",
    "plt.ylabel('test2')\n",
    "plt.legend((passed,failed),('passed','failed'))\n",
    "plt.show()"
   ]
  },
  {
   "cell_type": "code",
   "execution_count": 11,
   "metadata": {},
   "outputs": [
    {
     "data": {
      "text/plain": [
       "0    0.051267\n",
       "1   -0.092742\n",
       "2   -0.213710\n",
       "3   -0.375000\n",
       "4    0.183760\n",
       "Name: test1, dtype: float64"
      ]
     },
     "execution_count": 11,
     "metadata": {},
     "output_type": "execute_result"
    }
   ],
   "source": [
    "#dafine X,y\n",
    "X = data.drop(['pass'],axis=1)\n",
    "y = data.loc[:,'pass']\n",
    "X1 = data.loc[:,'test1']\n",
    "X2 = data.loc[:,'test2']\n",
    "X1.head()"
   ]
  },
  {
   "cell_type": "code",
   "execution_count": 12,
   "metadata": {},
   "outputs": [
    {
     "name": "stdout",
     "output_type": "stream",
     "text": [
      "           X1      X1_2     X1_X2        X2      X2_2\n",
      "0    0.051267  0.002628  0.035864  0.699560  0.489384\n",
      "1   -0.092742  0.008601 -0.063523  0.684940  0.469143\n",
      "2   -0.213710  0.045672 -0.147941  0.692250  0.479210\n",
      "3   -0.375000  0.140625 -0.188321  0.502190  0.252195\n",
      "4    0.183760  0.033768  0.171536  0.933480  0.871385\n",
      "5    0.224080  0.050212  0.174776  0.779970  0.608353\n",
      "6    0.298960  0.089377  0.185101  0.619150  0.383347\n",
      "7   -0.513250  0.263426 -0.238990  0.465640  0.216821\n",
      "8   -0.524770  0.275384 -0.110097  0.209800  0.044016\n",
      "9   -0.398040  0.158436 -0.013675  0.034357  0.001180\n",
      "10  -0.305880  0.093563  0.058805 -0.192250  0.036960\n",
      "11   0.016705  0.000279 -0.006753 -0.404240  0.163410\n",
      "12   0.131910  0.017400 -0.067787 -0.513890  0.264083\n",
      "13   0.385370  0.148510 -0.217757 -0.565060  0.319293\n",
      "14   0.529380  0.280243 -0.275913 -0.521200  0.271649\n",
      "15   0.638820  0.408091 -0.155502 -0.243420  0.059253\n",
      "16   0.736750  0.542801 -0.136255 -0.184940  0.034203\n",
      "17   0.546660  0.298837  0.266535  0.487570  0.237725\n",
      "18   0.322000  0.103684  0.187597  0.582600  0.339423\n",
      "19   0.166470  0.027712  0.089684  0.538740  0.290241\n",
      "20  -0.046659  0.002177 -0.038098  0.816520  0.666705\n",
      "21  -0.173390  0.030064 -0.121297  0.699560  0.489384\n",
      "22  -0.478690  0.229144 -0.303379  0.633770  0.401664\n",
      "23  -0.605410  0.366521 -0.361563  0.597220  0.356672\n",
      "24  -0.628460  0.394962 -0.209943  0.334060  0.111596\n",
      "25  -0.593890  0.352705 -0.003039  0.005117  0.000026\n",
      "26  -0.421080  0.177308  0.114812 -0.272660  0.074343\n",
      "27  -0.115780  0.013405  0.045957 -0.396930  0.157553\n",
      "28   0.201040  0.040417 -0.120948 -0.601610  0.361935\n",
      "29   0.466010  0.217165 -0.249697 -0.535820  0.287103\n",
      "..        ...       ...       ...       ...       ...\n",
      "88  -0.403800  0.163054 -0.285434  0.706870  0.499665\n",
      "89  -0.380760  0.144978 -0.349865  0.918860  0.844304\n",
      "90  -0.507490  0.257546 -0.458893  0.904240  0.817650\n",
      "91  -0.547810  0.300096 -0.387230  0.706870  0.499665\n",
      "92   0.103110  0.010632  0.080423  0.779970  0.608353\n",
      "93   0.057028  0.003252  0.052401  0.918860  0.844304\n",
      "94  -0.104260  0.010870 -0.103422  0.991960  0.983985\n",
      "95  -0.081221  0.006597 -0.090066  1.108900  1.229659\n",
      "96   0.287440  0.082622  0.312447  1.087000  1.181569\n",
      "97   0.396890  0.157522  0.326970  0.823830  0.678696\n",
      "98   0.638820  0.408091  0.568307  0.889620  0.791424\n",
      "99   0.823160  0.677592  0.545763  0.663010  0.439582\n",
      "100  0.673390  0.453454  0.431697  0.641080  0.410984\n",
      "101  1.070900  1.146827  0.107251  0.100150  0.010030\n",
      "102 -0.046659  0.002177  0.027047 -0.579680  0.336029\n",
      "103 -0.236750  0.056051  0.151084 -0.638160  0.407248\n",
      "104 -0.150350  0.022605  0.055282 -0.367690  0.135196\n",
      "105 -0.490210  0.240306  0.147994 -0.301900  0.091144\n",
      "106 -0.467170  0.218248  0.062493 -0.133770  0.017894\n",
      "107 -0.288590  0.083284  0.017510 -0.060673  0.003681\n",
      "108 -0.611180  0.373541  0.041549 -0.067982  0.004622\n",
      "109 -0.663020  0.439596  0.142006 -0.214180  0.045873\n",
      "110 -0.599650  0.359580  0.251169 -0.418860  0.175444\n",
      "111 -0.726380  0.527628  0.060000 -0.082602  0.006823\n",
      "112 -0.830070  0.689016 -0.259090  0.312130  0.097425\n",
      "113 -0.720620  0.519293 -0.388227  0.538740  0.290241\n",
      "114 -0.593890  0.352705 -0.293904  0.494880  0.244906\n",
      "115 -0.484450  0.234692 -0.484096  0.999270  0.998541\n",
      "116 -0.006336  0.000040 -0.006332  0.999270  0.998541\n",
      "117  0.632650  0.400246 -0.019367 -0.030612  0.000937\n",
      "\n",
      "[118 rows x 5 columns]\n"
     ]
    }
   ],
   "source": [
    "#create new data\n",
    "X1_2 = X1*X1\n",
    "X2_2 = X2*X2\n",
    "X1_X2 = X1*X2\n",
    "\n",
    "X_new = {'X1':X1,'X2':X2,'X1_2':X1_2,'X2_2':X2_2,'X1_X2':X1_X2}\n",
    "X_new = pd.DataFrame(X_new)\n",
    "print(X_new)"
   ]
  },
  {
   "cell_type": "code",
   "execution_count": 16,
   "metadata": {},
   "outputs": [
    {
     "name": "stdout",
     "output_type": "stream",
     "text": [
      "0.8135593220338984\n"
     ]
    }
   ],
   "source": [
    "# 训练\n",
    "from sklearn.linear_model import LogisticRegression\n",
    "LR2 = LogisticRegression()\n",
    "LR2.fit(X_new,y)\n",
    "# 检测\n",
    "y_predict = LR2.predict(X_new)\n",
    "\n",
    "# 正确率\n",
    "from sklearn.metrics import accuracy_score\n",
    "accuracy =  accuracy_score(y,y_predict)\n",
    "print(accuracy)"
   ]
  },
  {
   "cell_type": "code",
   "execution_count": 23,
   "metadata": {},
   "outputs": [
    {
     "name": "stdout",
     "output_type": "stream",
     "text": [
      "0      0.051267\n",
      "1     -0.092742\n",
      "2     -0.213710\n",
      "3     -0.375000\n",
      "4      0.183760\n",
      "5      0.224080\n",
      "6      0.298960\n",
      "7     -0.513250\n",
      "8     -0.524770\n",
      "9     -0.398040\n",
      "10    -0.305880\n",
      "11     0.016705\n",
      "12     0.131910\n",
      "13     0.385370\n",
      "14     0.529380\n",
      "15     0.638820\n",
      "16     0.736750\n",
      "17     0.546660\n",
      "18     0.322000\n",
      "19     0.166470\n",
      "20    -0.046659\n",
      "21    -0.173390\n",
      "22    -0.478690\n",
      "23    -0.605410\n",
      "24    -0.628460\n",
      "25    -0.593890\n",
      "26    -0.421080\n",
      "27    -0.115780\n",
      "28     0.201040\n",
      "29     0.466010\n",
      "         ...   \n",
      "88    -0.403800\n",
      "89    -0.380760\n",
      "90    -0.507490\n",
      "91    -0.547810\n",
      "92     0.103110\n",
      "93     0.057028\n",
      "94    -0.104260\n",
      "95    -0.081221\n",
      "96     0.287440\n",
      "97     0.396890\n",
      "98     0.638820\n",
      "99     0.823160\n",
      "100    0.673390\n",
      "101    1.070900\n",
      "102   -0.046659\n",
      "103   -0.236750\n",
      "104   -0.150350\n",
      "105   -0.490210\n",
      "106   -0.467170\n",
      "107   -0.288590\n",
      "108   -0.611180\n",
      "109   -0.663020\n",
      "110   -0.599650\n",
      "111   -0.726380\n",
      "112   -0.830070\n",
      "113   -0.720620\n",
      "114   -0.593890\n",
      "115   -0.484450\n",
      "116   -0.006336\n",
      "117    0.632650\n",
      "Name: test1, Length: 118, dtype: float64 112   -0.83007\n",
      "86    -0.75518\n",
      "84    -0.74366\n",
      "111   -0.72638\n",
      "113   -0.72062\n",
      "85    -0.69758\n",
      "87    -0.69758\n",
      "109   -0.66302\n",
      "24    -0.62846\n",
      "108   -0.61118\n",
      "23    -0.60541\n",
      "110   -0.59965\n",
      "114   -0.59389\n",
      "25    -0.59389\n",
      "91    -0.54781\n",
      "8     -0.52477\n",
      "7     -0.51325\n",
      "90    -0.50749\n",
      "105   -0.49021\n",
      "115   -0.48445\n",
      "22    -0.47869\n",
      "106   -0.46717\n",
      "58    -0.43836\n",
      "26    -0.42108\n",
      "82    -0.40956\n",
      "88    -0.40380\n",
      "9     -0.39804\n",
      "83    -0.39228\n",
      "89    -0.38076\n",
      "3     -0.37500\n",
      "        ...   \n",
      "44     0.48329\n",
      "61     0.50634\n",
      "75     0.51786\n",
      "14     0.52938\n",
      "17     0.54666\n",
      "48     0.57546\n",
      "74     0.59274\n",
      "63     0.60426\n",
      "62     0.61578\n",
      "47     0.62730\n",
      "117    0.63265\n",
      "15     0.63882\n",
      "98     0.63882\n",
      "45     0.64459\n",
      "100    0.67339\n",
      "30     0.67339\n",
      "49     0.72523\n",
      "16     0.73675\n",
      "64     0.76555\n",
      "73     0.79435\n",
      "66     0.82316\n",
      "99     0.82316\n",
      "72     0.82892\n",
      "71     0.85196\n",
      "69     0.86348\n",
      "70     0.89804\n",
      "65     0.92684\n",
      "68     0.93836\n",
      "67     0.96141\n",
      "101    1.07090\n",
      "Name: test1, Length: 118, dtype: float64\n",
      "112         NaN\n",
      "86          NaN\n",
      "84          NaN\n",
      "111         NaN\n",
      "113         NaN\n",
      "85          NaN\n",
      "87          NaN\n",
      "109         NaN\n",
      "24     0.121262\n",
      "108    0.046794\n",
      "23     0.026979\n",
      "110    0.008722\n",
      "114   -0.008306\n",
      "25    -0.008306\n",
      "91    -0.117187\n",
      "8     -0.160402\n",
      "7     -0.180165\n",
      "90    -0.189653\n",
      "105   -0.216710\n",
      "115   -0.225301\n",
      "22    -0.233695\n",
      "106   -0.249926\n",
      "58    -0.287616\n",
      "26    -0.308468\n",
      "82    -0.321719\n",
      "88    -0.328161\n",
      "9     -0.334485\n",
      "83    -0.340695\n",
      "89    -0.352784\n",
      "3     -0.358668\n",
      "         ...   \n",
      "44    -0.506476\n",
      "61    -0.489255\n",
      "75    -0.479870\n",
      "14    -0.469919\n",
      "17    -0.453836\n",
      "48    -0.423493\n",
      "74    -0.402767\n",
      "63    -0.387696\n",
      "62    -0.371466\n",
      "47    -0.353902\n",
      "117   -0.345231\n",
      "15    -0.334776\n",
      "98    -0.334776\n",
      "45    -0.324516\n",
      "100   -0.264169\n",
      "30    -0.264169\n",
      "49          NaN\n",
      "16          NaN\n",
      "64          NaN\n",
      "73          NaN\n",
      "66          NaN\n",
      "99          NaN\n",
      "72          NaN\n",
      "71          NaN\n",
      "69          NaN\n",
      "70          NaN\n",
      "65          NaN\n",
      "68          NaN\n",
      "67          NaN\n",
      "101         NaN\n",
      "Name: test1, Length: 118, dtype: float64\n"
     ]
    },
    {
     "name": "stderr",
     "output_type": "stream",
     "text": [
      "/Users/theone/opt/anaconda3/envs/sklean/lib/python3.6/site-packages/ipykernel_launcher.py:8: RuntimeWarning: invalid value encountered in sqrt\n",
      "  \n"
     ]
    }
   ],
   "source": [
    "X1_new = X1.sort_values()\n",
    "print(X1,X1_new)\n",
    "theta0 = LR2.intercept_\n",
    "theta1,theta3,theta5,theta2,theta4 = LR2.coef_[0][0],LR2.coef_[0][1],LR2.coef_[0][2],LR2.coef_[0][3],LR2.coef_[0][4]\n",
    "a = theta4\n",
    "b = theta5*X1_new+theta2\n",
    "c = theta0+theta1*X1_new+theta3*X1_new*X1_new\n",
    "X2_new_boundary = (-b+np.sqrt(b*b-4*a*c))/(2*a)\n",
    "\n",
    "print(X2_new_boundary)"
   ]
  },
  {
   "cell_type": "code",
   "execution_count": 18,
   "metadata": {},
   "outputs": [
    {
     "data": {
      "image/png": "[encoded data removed]",
      "text/plain": [
       "<Figure size 432x288 with 1 Axes>"
      ]
     },
     "metadata": {
      "needs_background": "light"
     },
     "output_type": "display_data"
    },
    {
     "data": {
      "image/png": "[encoded data removed]",
      "text/plain": [
       "<Figure size 432x288 with 1 Axes>"
      ]
     },
     "metadata": {
      "needs_background": "light"
     },
     "output_type": "display_data"
    }
   ],
   "source": [
    "\n",
    "fig5 = plt.figure()\n",
    "passed=plt.scatter(data.loc[:,'test1'][mask],data.loc[:,'test2'][mask])\n",
    "failed=plt.scatter(data.loc[:,'test1'][~mask],data.loc[:,'test2'][~mask])\n",
    "plt.plot(X1_new,X2_new_boundary)\n",
    "plt.title('test1-test2')\n",
    "plt.xlabel('test1')\n",
    "plt.ylabel('test2')\n",
    "plt.legend((passed,failed),('passed','failed'))\n",
    "plt.show()\n",
    "\n",
    "plt.plot(X1_new,X2_new_boundary)\n",
    "plt.show()"
   ]
  },
  {
   "cell_type": "code",
   "execution_count": 28,
   "metadata": {},
   "outputs": [],
   "source": [
    "# 以函数的方式展示\n",
    "\n",
    "# define f(x)\n",
    "\n",
    "def f(x):\n",
    "    a = theta4\n",
    "    b = theta5*x+theta2\n",
    "    c = theta0+theta1*x+theta3*x*x\n",
    "    X2_new_boundary1 = (-b+np.sqrt(b*b-4*a*c))/(2*a)\n",
    "    X2_new_boundary2 = (-b-np.sqrt(b*b-4*a*c))/(2*a)\n",
    "    return X2_new_boundary1,X2_new_boundary2"
   ]
  },
  {
   "cell_type": "code",
   "execution_count": 29,
   "metadata": {},
   "outputs": [
    {
     "name": "stdout",
     "output_type": "stream",
     "text": [
      "[array([nan]), array([nan]), array([nan]), array([nan]), array([nan]), array([nan]), array([nan]), array([nan]), array([0.1212617]), array([0.04679448]), array([0.02697935]), array([0.00872189]), array([-0.00830576]), array([-0.00830576]), array([-0.11718731]), array([-0.16040224]), array([-0.18016521]), array([-0.18965258]), array([-0.21671004]), array([-0.22530078]), array([-0.23369452]), array([-0.2499261]), array([-0.28761583]), array([-0.30846849]), array([-0.32171919]), array([-0.32816104]), array([-0.33448523]), array([-0.34069505]), array([-0.35278365]), array([-0.35866807]), array([-0.37013014]), array([-0.42186137]), array([-0.42656594]), array([-0.43119936]), array([-0.43574686]), array([-0.44021779]), array([-0.45318277]), array([-0.47336128]), array([-0.47336128]), array([-0.48465118]), array([-0.48828317]), array([-0.49185073]), array([-0.49185073]), array([-0.51193977]), array([-0.51193977]), array([-0.5181489]), array([-0.52412149]), array([-0.52986615]), array([-0.52986615]), array([-0.53264971]), array([-0.54066023]), array([-0.54572074]), array([-0.55055962]), array([-0.55055962]), array([-0.55518131]), array([-0.56170859]), array([-0.56775529]), array([-0.56775529]), array([-0.58002265]), array([-0.58002265]), array([-0.58588805]), array([-0.59313744]), array([-0.59416537]), array([-0.59514154]), array([-0.59852963]), array([-0.60052615]), array([-0.60280757]), array([-0.60310565]), array([-0.60354216]), array([-0.60379456]), array([-0.60355793]), array([-0.60282483]), array([-0.60105947]), array([-0.60105947]), array([-0.60047489]), array([-0.59135016]), array([-0.59135016]), array([-0.59009769]), array([-0.5887809]), array([-0.58285568]), array([-0.58285568]), array([-0.57390312]), array([-0.56073894]), array([-0.55572236]), array([-0.53219481]), array([-0.52181028]), array([-0.51814159]), array([-0.51814159]), array([-0.50647589]), array([-0.48925514]), array([-0.47987024]), array([-0.46991909]), array([-0.45383618]), array([-0.42349291]), array([-0.40276684]), array([-0.38769565]), array([-0.3714656]), array([-0.353902]), array([-0.34523055]), array([-0.33477608]), array([-0.33477608]), array([-0.32451646]), array([-0.26416907]), array([-0.26416907]), array([nan]), array([nan]), array([nan]), array([nan]), array([nan]), array([nan]), array([nan]), array([nan]), array([nan]), array([nan]), array([nan]), array([nan]), array([nan]), array([nan])] [array([nan]), array([nan]), array([nan]), array([nan]), array([nan]), array([nan]), array([nan]), array([nan]), array([0.41115349]), array([0.47870382]), array([0.49620931]), array([0.51216114]), array([0.52688317]), array([0.52688317]), array([0.61731967]), array([0.65131207]), array([0.66646378]), array([0.67364552]), array([0.69378609]), array([0.7000712]), array([0.70615931]), array([0.71777963]), array([0.74393719]), array([0.75787296]), array([0.76651241]), array([0.77064862]), array([0.77466719]), array([0.77857137]), array([0.78604871]), array([0.7896275]), array([0.79647831]), array([0.82515323]), array([0.82755217]), array([0.82987596]), array([0.83211783]), array([0.83428312]), array([0.84033121]), array([0.84898157]), array([0.84898157]), array([0.85335458]), array([0.85468094]), array([0.85594286]), array([0.85594286]), array([0.86219812]), array([0.86219812]), array([0.86379599]), array([0.86515732]), array([0.86628671]), array([0.86628671]), array([0.86676464]), array([0.86785827]), array([0.86830752]), array([0.86853594]), array([0.86853594]), array([0.86854596]), array([0.86815595]), array([0.86728536]), array([0.86728536]), array([0.86341226]), array([0.86341226]), array([0.86005458]), array([0.85346939]), array([0.85219128]), array([0.85086182]), array([0.84502699]), array([0.84010621]), array([0.83085948]), array([0.82885193]), array([0.82467718]), array([0.81801268]), array([0.81085516]), array([0.80320517]), array([0.79221728]), array([0.79221728]), array([0.78932708]), array([0.75714603]), array([0.75714603]), array([0.75358794]), array([0.74996551]), array([0.73481778]), array([0.73481778]), array([0.71433305]), array([0.68733509]), array([0.67770724]), array([0.63573465]), array([0.61843322]), array([0.61245891]), array([0.61245891]), array([0.59387632]), array([0.56742904]), array([0.55343288]), array([0.53887047]), array([0.51587067]), array([0.47399923]), array([0.44635628]), array([0.42667382]), array([0.40583252]), array([0.38365766]), array([0.37284469]), array([0.35992047]), array([0.35992047]), array([0.34735121]), array([0.27547567]), array([0.27547567]), array([nan]), array([nan]), array([nan]), array([nan]), array([nan]), array([nan]), array([nan]), array([nan]), array([nan]), array([nan]), array([nan]), array([nan]), array([nan]), array([nan])]\n"
     ]
    },
    {
     "name": "stderr",
     "output_type": "stream",
     "text": [
      "/Users/theone/opt/anaconda3/envs/sklean/lib/python3.6/site-packages/ipykernel_launcher.py:9: RuntimeWarning: invalid value encountered in sqrt\n",
      "  if __name__ == '__main__':\n",
      "/Users/theone/opt/anaconda3/envs/sklean/lib/python3.6/site-packages/ipykernel_launcher.py:10: RuntimeWarning: invalid value encountered in sqrt\n",
      "  # Remove the CWD from sys.path while we load stuff.\n"
     ]
    }
   ],
   "source": [
    "X2_new_boundary1 = []\n",
    "X2_new_boundary2 = []\n",
    "for x in X1_new:\n",
    "    item = f(x)\n",
    "    X2_new_boundary1.append(item[0])\n",
    "    X2_new_boundary2.append(item[1])\n",
    "    \n",
    "print(X2_new_boundary1, X2_new_boundary2)"
   ]
  },
  {
   "cell_type": "code",
   "execution_count": 30,
   "metadata": {},
   "outputs": [
    {
     "data": {
      "image/png": "[encoded data removed]",
      "text/plain": [
       "<Figure size 432x288 with 1 Axes>"
      ]
     },
     "metadata": {
      "needs_background": "light"
     },
     "output_type": "display_data"
    }
   ],
   "source": [
    "fig3 = plt.figure()\n",
    "passed=plt.scatter(data.loc[:,'test1'][mask],data.loc[:,'test2'][mask])\n",
    "failed=plt.scatter(data.loc[:,'test1'][~mask],data.loc[:,'test2'][~mask])\n",
    "plt.plot(X1_new,X2_new_boundary1)\n",
    "plt.plot(X1_new,X2_new_boundary2)\n",
    "plt.title('test1-test2')\n",
    "plt.xlabel('test1')\n",
    "plt.ylabel('test2')\n",
    "plt.legend((passed,failed),('passed','failed'))\n",
    "plt.show()"
   ]
  },
  {
   "cell_type": "code",
   "execution_count": null,
   "metadata": {},
   "outputs": [],
   "source": [
    "# 自己构建数据"
   ]
  }
 ],
 "metadata": {
  "kernelspec": {
   "display_name": "Python 3",
   "language": "python",
   "name": "python3"
  },
  "language_info": {
   "codemirror_mode": {
    "name": "ipython",
    "version": 3
   },
   "file_extension": ".py",
   "mimetype": "text/x-python",
   "name": "python",
   "nbconvert_exporter": "python",
   "pygments_lexer": "ipython3",
   "version": "3.6.10"
  }
 },
 "nbformat": 4,
 "nbformat_minor": 4
}
