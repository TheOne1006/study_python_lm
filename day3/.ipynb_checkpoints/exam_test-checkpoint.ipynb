{
 "cells": [
  {
   "cell_type": "markdown",
   "metadata": {},
   "source": [
    "**任务:**\n",
    "\n",
    "基于examdata.csv数据，建立逻辑回归模型\n",
    "预测Exam1 = 75, Exam2 = 60时，该同学在Exam3是 passed or failed;\n",
    "建立二阶边界，提高模型准确度"
   ]
  },
  {
   "cell_type": "code",
   "execution_count": 2,
   "metadata": {},
   "outputs": [
    {
     "data": {
      "text/html": [
       "<div>\n",
       "<style>\n",
       "    .dataframe thead tr:only-child th {\n",
       "        text-align: right;\n",
       "    }\n",
       "\n",
       "    .dataframe thead th {\n",
       "        text-align: left;\n",
       "    }\n",
       "\n",
       "    .dataframe tbody tr th {\n",
       "        vertical-align: top;\n",
       "    }\n",
       "</style>\n",
       "<table border=\"1\" class=\"dataframe\">\n",
       "  <thead>\n",
       "    <tr style=\"text-align: right;\">\n",
       "      <th></th>\n",
       "      <th>Exam1</th>\n",
       "      <th>Exam2</th>\n",
       "      <th>Pass</th>\n",
       "    </tr>\n",
       "  </thead>\n",
       "  <tbody>\n",
       "    <tr>\n",
       "      <th>0</th>\n",
       "      <td>34.623660</td>\n",
       "      <td>78.024693</td>\n",
       "      <td>0</td>\n",
       "    </tr>\n",
       "    <tr>\n",
       "      <th>1</th>\n",
       "      <td>30.286711</td>\n",
       "      <td>43.894998</td>\n",
       "      <td>0</td>\n",
       "    </tr>\n",
       "    <tr>\n",
       "      <th>2</th>\n",
       "      <td>35.847409</td>\n",
       "      <td>72.902198</td>\n",
       "      <td>0</td>\n",
       "    </tr>\n",
       "    <tr>\n",
       "      <th>3</th>\n",
       "      <td>60.182599</td>\n",
       "      <td>86.308552</td>\n",
       "      <td>1</td>\n",
       "    </tr>\n",
       "    <tr>\n",
       "      <th>4</th>\n",
       "      <td>79.032736</td>\n",
       "      <td>75.344376</td>\n",
       "      <td>1</td>\n",
       "    </tr>\n",
       "  </tbody>\n",
       "</table>\n",
       "</div>"
      ],
      "text/plain": [
       "       Exam1      Exam2  Pass\n",
       "0  34.623660  78.024693     0\n",
       "1  30.286711  43.894998     0\n",
       "2  35.847409  72.902198     0\n",
       "3  60.182599  86.308552     1\n",
       "4  79.032736  75.344376     1"
      ]
     },
     "execution_count": 2,
     "metadata": {},
     "output_type": "execute_result"
    }
   ],
   "source": [
    "# 加载数据\n",
    "import pandas as pd\n",
    "import numpy as np\n",
    "data = pd.read_csv(\"examdata.csv\")\n",
    "data.head()"
   ]
  },
  {
   "cell_type": "code",
   "execution_count": 5,
   "metadata": {},
   "outputs": [
    {
     "data": {
      "image/png": "[encoded data removed]",
      "text/plain": [
       "<Figure size 432x288 with 1 Axes>"
      ]
     },
     "metadata": {
      "needs_background": "light"
     },
     "output_type": "display_data"
    }
   ],
   "source": [
    "# 可视化数据\n",
    "from matplotlib import pyplot as plt\n",
    "fig1 = plt.figure()\n",
    "plt.scatter(data.loc[:,'Exam1'], data.loc[:,'Exam2'])\n",
    "plt.xlabel('Exam1')\n",
    "plt.ylabel('Exam2')\n",
    "plt.show()\n"
   ]
  },
  {
   "cell_type": "code",
   "execution_count": 8,
   "metadata": {},
   "outputs": [
    {
     "data": {
      "image/png": "[encoded data removed]",
      "text/plain": [
       "<Figure size 432x288 with 1 Axes>"
      ]
     },
     "metadata": {
      "needs_background": "light"
     },
     "output_type": "display_data"
    }
   ],
   "source": [
    "# 添加mask\n",
    "mask = data.loc[:,'Pass']==1\n",
    "fig2 = plt.figure()\n",
    "passed = plt.scatter(data.loc[:,'Exam1'][mask], data.loc[:,'Exam2'][mask])\n",
    "failed = plt.scatter(data.loc[:,'Exam1'][~mask], data.loc[:,'Exam2'][~mask])\n",
    "plt.xlabel('Exam1')\n",
    "plt.ylabel('Exam2')\n",
    "plt.legend((passed, failed),('passed', 'failed'))\n",
    "plt.show()"
   ]
  },
  {
   "cell_type": "code",
   "execution_count": 13,
   "metadata": {},
   "outputs": [],
   "source": [
    "# 定义输入和输出\n",
    "x = data.drop(['Pass'], axis = 1)\n",
    "y = data.loc[:,'Pass']"
   ]
  },
  {
   "cell_type": "code",
   "execution_count": 14,
   "metadata": {},
   "outputs": [
    {
     "data": {
      "text/plain": [
       "LogisticRegression()"
      ]
     },
     "execution_count": 14,
     "metadata": {},
     "output_type": "execute_result"
    }
   ],
   "source": [
    "# 训练模型，逻辑回归\n",
    "from sklearn.linear_model import LogisticRegression\n",
    "LR = LogisticRegression()\n",
    "\n",
    "LR.fit(x, y)\n"
   ]
  },
  {
   "cell_type": "code",
   "execution_count": 15,
   "metadata": {},
   "outputs": [
    {
     "name": "stdout",
     "output_type": "stream",
     "text": [
      "[0 0 0 1 1 0 1 0 1 1 1 0 1 1 0 1 0 0 1 1 0 1 0 0 1 1 1 1 0 0 1 1 0 0 0 0 1\n",
      " 1 0 0 1 0 1 1 0 0 1 1 1 1 1 1 1 0 0 0 1 1 1 1 1 0 0 0 0 0 1 0 1 1 0 1 1 1\n",
      " 1 1 1 1 0 1 1 1 1 0 1 1 0 1 1 0 1 1 0 1 1 1 1 1 0 1]\n"
     ]
    }
   ],
   "source": [
    "y_predict = LR.predict(x)\n",
    "print(y_predict)"
   ]
  },
  {
   "cell_type": "code",
   "execution_count": 17,
   "metadata": {},
   "outputs": [
    {
     "name": "stdout",
     "output_type": "stream",
     "text": [
      "0.89\n"
     ]
    }
   ],
   "source": [
    "# 准确率\n",
    "from sklearn.metrics import accuracy_score\n",
    "accuracy = accuracy_score(y, y_predict)\n",
    "\n",
    "print(accuracy)"
   ]
  },
  {
   "cell_type": "code",
   "execution_count": 21,
   "metadata": {},
   "outputs": [
    {
     "name": "stdout",
     "output_type": "stream",
     "text": [
      "[1]\n"
     ]
    }
   ],
   "source": [
    "# 预测Exam1 = 75, Exam2 = 60\n",
    "x_1 = [75, 60]\n",
    "y_1 = LR.predict([x_1])\n",
    "print(y_1)"
   ]
  },
  {
   "cell_type": "code",
   "execution_count": 24,
   "metadata": {},
   "outputs": [
    {
     "name": "stdout",
     "output_type": "stream",
     "text": [
      "[-25.05219314] 0.20535491217790383 0.20058380395469044\n"
     ]
    }
   ],
   "source": [
    "# 求边界函数示例图\n",
    "theta0 = LR.intercept_\n",
    "[theta1,theta2] = LR.coef_[0]\n",
    "\n",
    "print(theta0, theta1, theta2)"
   ]
  },
  {
   "cell_type": "code",
   "execution_count": 25,
   "metadata": {},
   "outputs": [
    {
     "data": {
      "image/png": "[encoded data removed]",
      "text/plain": [
       "<Figure size 432x288 with 1 Axes>"
      ]
     },
     "metadata": {
      "needs_background": "light"
     },
     "output_type": "display_data"
    }
   ],
   "source": [
    "X1 = data.loc[:,'Exam1']\n",
    "X2_new = -(theta0+theta1*X1)/theta2\n",
    "\n",
    "fig3 = plt.figure()\n",
    "passed=plt.scatter(data.loc[:,'Exam1'][mask],data.loc[:,'Exam2'][mask])\n",
    "failed=plt.scatter(data.loc[:,'Exam1'][~mask],data.loc[:,'Exam2'][~mask])\n",
    "plt.plot(X1,X2_new)\n",
    "plt.title('Exam1-Exam2')\n",
    "plt.xlabel('Exam1')\n",
    "plt.ylabel('Exam2')\n",
    "plt.legend((passed,failed),('passed','failed'))\n",
    "plt.show()"
   ]
  },
  {
   "cell_type": "markdown",
   "metadata": {},
   "source": [
    "边界函数： $\\theta_0 + \\theta_1 X_1 + \\theta_2 X_2 = 0$\n",
    "![linear_boundary.png](images/linear_boundary.png)\n",
    "边界函数： $\\theta_0 + \\theta_1 X_1 + \\theta_2 X_2 = 0$\n",
    "\n",
    "二阶边界函数：$\\theta_0 + \\theta_1 X_1 + \\theta_2 X_2+ \\theta_3 X_1^2 + \\theta_4 X_2^2 + \\theta_5 X_1 X_2 = 0$"
   ]
  },
  {
   "cell_type": "code",
   "execution_count": 52,
   "metadata": {},
   "outputs": [
    {
     "name": "stdout",
     "output_type": "stream",
     "text": [
      "           X1         X1_2        X1_X2         X2         X2_2\n",
      "0   34.623660  1198.797805  2701.500406  78.024693  6087.852690\n",
      "1   30.286711   917.284849  1329.435094  43.894998  1926.770807\n",
      "2   35.847409  1285.036716  2613.354893  72.902198  5314.730478\n",
      "3   60.182599  3621.945269  5194.273015  86.308552  7449.166166\n",
      "4   79.032736  6246.173368  5954.672216  75.344376  5676.775061\n",
      "5   45.083277  2032.501908  2538.926616  56.316372  3171.533730\n",
      "6   61.106665  3734.024451  5897.491326  96.511426  9314.455325\n",
      "7   75.024746  5628.712448  3492.703021  46.554014  2167.276177\n",
      "8   76.098787  5791.025337  6652.599288  87.420570  7642.356010\n",
      "9   84.432820  7128.901086  3675.647160  43.533393  1895.156333\n",
      "10  95.861555  9189.437740  3664.334598  38.225278  1461.171883\n",
      "11  75.013658  5627.048945  2295.662734  30.603263   936.559720\n",
      "12  82.307053  6774.451034  6295.005035  76.481963  5849.490710\n",
      "13  69.364589  4811.446174  6778.216882  97.718692  9548.942758\n",
      "14  39.538339  1563.280262  3006.369215  76.036811  5781.596604\n",
      "15  53.971052  2912.874470  4814.614547  89.207350  7957.951319\n",
      "16  69.070144  4770.684800  3642.791842  52.740470  2781.557147\n",
      "17  67.946855  4616.775170  3171.662329  46.678574  2178.889281\n",
      "18  70.661510  4993.048932  6566.371841  92.927138  8635.452956\n",
      "19  76.978784  5925.733145  3662.339817  47.575964  2263.472317\n",
      "20  67.372028  4538.990096  2886.112447  42.838438  1835.131798\n",
      "21  89.676776  8041.924109  5900.674983  65.799366  4329.556557\n",
      "22  50.534788  2553.764828  2468.918092  48.855812  2386.890320\n",
      "23  34.212061  1170.465116  1512.499088  44.209529  1954.482419\n",
      "24  77.924091  6072.164028  5374.608487  68.972360  4757.186443\n",
      "25  62.271014  3877.679143  4356.135007  69.954458  4893.626187\n",
      "26  80.190181  6430.465089  3594.254525  44.821629  2008.978420\n",
      "27  93.114389  8670.289402  3612.900704  38.800670  1505.492019\n",
      "28  61.830206  3822.974376  3107.345505  50.256108  2525.676380\n",
      "29  38.785804  1504.338576  2520.909730  64.995681  4224.438543\n",
      "..        ...          ...          ...        ...          ...\n",
      "70  32.722833  1070.783802  1417.133393  43.307173  1875.511238\n",
      "71  64.039320  4101.034560  4997.096272  78.031688  6088.944335\n",
      "72  72.346494  5234.015227  6961.729000  96.227593  9259.749649\n",
      "73  60.457886  3655.155948  4419.169043  73.094998  5342.878747\n",
      "74  58.840956  3462.258129  4463.583636  75.858448  5754.504180\n",
      "75  99.827858  9965.601193  7224.467391  72.369252  5237.308625\n",
      "76  47.264269  2233.911135  4181.747093  88.475865  7827.978687\n",
      "77  50.458160  2546.025890  3825.226007  75.809860  5747.134802\n",
      "78  60.455556  3654.874286  2569.869540  42.508409  1806.964873\n",
      "79  82.226662  6761.223875  3512.712995  42.719879  1824.988022\n",
      "80  88.913896  7905.680977  6206.526856  69.803789  4872.568945\n",
      "81  94.834507  8993.583665  4333.397045  45.694307  2087.969674\n",
      "82  67.319257  4531.882426  4482.745811  66.589353  4434.141957\n",
      "83  57.238706  3276.269501  3406.520508  59.514282  3541.949760\n",
      "84  80.366756  6458.815470  7310.172012  90.960148  8273.748506\n",
      "85  68.468522  4687.938476  5860.515681  85.594307  7326.385408\n",
      "86  42.075455  1770.343875  3317.430209  78.844786  6216.500279\n",
      "87  75.477702  5696.883501  6825.036409  90.424539  8176.597253\n",
      "88  78.635424  6183.529963  7599.911448  96.647427  9340.725179\n",
      "89  52.348004  2740.313522  3181.162304  60.769505  3692.932770\n",
      "90  94.094331  8853.743151  7260.234384  77.159105  5953.527498\n",
      "91  90.448551  8180.940373  7915.043412  87.508792  7657.788635\n",
      "92  55.482161  3078.270205  1973.539502  35.570703  1265.274945\n",
      "93  74.492692  5549.161224  6320.342683  84.845137  7198.697247\n",
      "94  89.845807  8072.268983  4075.251582  45.358284  2057.373892\n",
      "95  83.489163  6970.440295  4039.229555  48.380286  2340.652054\n",
      "96  42.261701  1786.051355  3681.156888  87.103851  7587.080849\n",
      "97  99.315009  9863.470975  6830.430397  68.775409  4730.056948\n",
      "98  55.340018  3062.517544  3593.334590  64.931938  4216.156574\n",
      "99  74.775893  5591.434174  6694.671710  89.529813  8015.587398\n",
      "\n",
      "[100 rows x 5 columns]\n"
     ]
    }
   ],
   "source": [
    "X1 = data.loc[:,'Exam1']\n",
    "X2 = data.loc[:,'Exam2']\n",
    "y = data.loc[:,'Pass']\n",
    "\n",
    "#create new data\n",
    "X1_2 = X1*X1\n",
    "X2_2 = X2*X2\n",
    "X1_X2 = X1*X2\n",
    "\n",
    "X_new = {'X1':X1,'X2':X2,'X1_2':X1_2,'X2_2':X2_2,'X1_X2':X1_X2}\n",
    "X_new = pd.DataFrame(X_new)\n",
    "print(X_new)\n"
   ]
  },
  {
   "cell_type": "code",
   "execution_count": 53,
   "metadata": {},
   "outputs": [
    {
     "name": "stdout",
     "output_type": "stream",
     "text": [
      "1.0\n"
     ]
    }
   ],
   "source": [
    "#establish new model and train\n",
    "LR2 = LogisticRegression()\n",
    "LR2.fit(X_new,y)\n",
    "\n",
    "y2_predict = LR2.predict(X_new)\n",
    "accuracy2 = accuracy_score(y,y2_predict)\n",
    "print(accuracy2)"
   ]
  },
  {
   "cell_type": "code",
   "execution_count": 39,
   "metadata": {},
   "outputs": [
    {
     "name": "stdout",
     "output_type": "stream",
     "text": [
      "1.0\n"
     ]
    }
   ],
   "source": [
    "LR2 = LogisticRegression()\n",
    "LR2.fit(X_new,y)\n",
    "\n",
    "y2_predict = LR2.predict(X_new)\n",
    "accuracy2 = accuracy_score(y,y2_predict)\n",
    "print(accuracy2)"
   ]
  },
  {
   "cell_type": "code",
   "execution_count": 54,
   "metadata": {},
   "outputs": [
    {
     "name": "stdout",
     "output_type": "stream",
     "text": [
      "0     34.623660\n",
      "1     30.286711\n",
      "2     35.847409\n",
      "3     60.182599\n",
      "4     79.032736\n",
      "5     45.083277\n",
      "6     61.106665\n",
      "7     75.024746\n",
      "8     76.098787\n",
      "9     84.432820\n",
      "10    95.861555\n",
      "11    75.013658\n",
      "12    82.307053\n",
      "13    69.364589\n",
      "14    39.538339\n",
      "15    53.971052\n",
      "16    69.070144\n",
      "17    67.946855\n",
      "18    70.661510\n",
      "19    76.978784\n",
      "20    67.372028\n",
      "21    89.676776\n",
      "22    50.534788\n",
      "23    34.212061\n",
      "24    77.924091\n",
      "25    62.271014\n",
      "26    80.190181\n",
      "27    93.114389\n",
      "28    61.830206\n",
      "29    38.785804\n",
      "        ...    \n",
      "70    32.722833\n",
      "71    64.039320\n",
      "72    72.346494\n",
      "73    60.457886\n",
      "74    58.840956\n",
      "75    99.827858\n",
      "76    47.264269\n",
      "77    50.458160\n",
      "78    60.455556\n",
      "79    82.226662\n",
      "80    88.913896\n",
      "81    94.834507\n",
      "82    67.319257\n",
      "83    57.238706\n",
      "84    80.366756\n",
      "85    68.468522\n",
      "86    42.075455\n",
      "87    75.477702\n",
      "88    78.635424\n",
      "89    52.348004\n",
      "90    94.094331\n",
      "91    90.448551\n",
      "92    55.482161\n",
      "93    74.492692\n",
      "94    89.845807\n",
      "95    83.489163\n",
      "96    42.261701\n",
      "97    99.315009\n",
      "98    55.340018\n",
      "99    74.775893\n",
      "Name: Exam1, Length: 100, dtype: float64 63    30.058822\n",
      "1     30.286711\n",
      "57    32.577200\n",
      "70    32.722833\n",
      "36    33.915500\n",
      "39    34.183640\n",
      "23    34.212061\n",
      "53    34.524514\n",
      "0     34.623660\n",
      "61    35.286113\n",
      "2     35.847409\n",
      "29    38.785804\n",
      "14    39.538339\n",
      "34    40.236894\n",
      "66    40.457551\n",
      "86    42.075455\n",
      "96    42.261701\n",
      "64    44.668262\n",
      "5     45.083277\n",
      "76    47.264269\n",
      "67    49.072563\n",
      "55    49.586677\n",
      "54    50.286496\n",
      "77    50.458160\n",
      "22    50.534788\n",
      "44    51.047752\n",
      "41    51.547720\n",
      "33    52.045405\n",
      "32    52.107980\n",
      "89    52.348004\n",
      "        ...    \n",
      "24    77.924091\n",
      "88    78.635424\n",
      "4     79.032736\n",
      "50    79.944818\n",
      "26    80.190181\n",
      "68    80.279574\n",
      "84    80.366756\n",
      "79    82.226662\n",
      "12    82.307053\n",
      "43    82.368754\n",
      "95    83.489163\n",
      "40    83.902394\n",
      "9     84.432820\n",
      "31    85.404519\n",
      "80    88.913896\n",
      "21    89.676776\n",
      "94    89.845807\n",
      "91    90.448551\n",
      "52    90.546714\n",
      "49    91.564975\n",
      "27    93.114389\n",
      "90    94.094331\n",
      "42    94.443368\n",
      "81    94.834507\n",
      "10    95.861555\n",
      "56    97.645634\n",
      "47    97.771599\n",
      "51    99.272527\n",
      "97    99.315009\n",
      "75    99.827858\n",
      "Name: Exam1, Length: 100, dtype: float64\n"
     ]
    }
   ],
   "source": [
    "X1_new = X1.sort_values()\n",
    "print(X1,X1_new)"
   ]
  },
  {
   "cell_type": "code",
   "execution_count": 60,
   "metadata": {},
   "outputs": [
    {
     "name": "stdout",
     "output_type": "stream",
     "text": [
      "63    132.124249\n",
      "1     130.914667\n",
      "57    119.415258\n",
      "70    118.725082\n",
      "36    113.258684\n",
      "39    112.075292\n",
      "23    111.950839\n",
      "53    110.594995\n",
      "0     110.169493\n",
      "61    107.384667\n",
      "2     105.103860\n",
      "29     94.308510\n",
      "14     91.840079\n",
      "34     89.650953\n",
      "66     88.979408\n",
      "86     84.336162\n",
      "96     83.832246\n",
      "64     77.845194\n",
      "5      76.905185\n",
      "76     72.365757\n",
      "67     69.062871\n",
      "55     68.192197\n",
      "54     67.052151\n",
      "77     66.780177\n",
      "22     66.659725\n",
      "44     65.868268\n",
      "41     65.121089\n",
      "33     64.400190\n",
      "32     64.311121\n",
      "89     63.972665\n",
      "         ...    \n",
      "24     44.736888\n",
      "88     44.464930\n",
      "4      44.316318\n",
      "50     43.983747\n",
      "26     43.896266\n",
      "68     43.864598\n",
      "84     43.833819\n",
      "79     43.200854\n",
      "12     43.174478\n",
      "43     43.154289\n",
      "95     42.795557\n",
      "40     42.666920\n",
      "9      42.504598\n",
      "31     42.215134\n",
      "80     41.248035\n",
      "21     41.052702\n",
      "94     41.010091\n",
      "91     40.860079\n",
      "52     40.835930\n",
      "49     40.589956\n",
      "27     40.230898\n",
      "90     40.012793\n",
      "42     39.936719\n",
      "81     39.852447\n",
      "10     39.635970\n",
      "56     39.275712\n",
      "47     39.251001\n",
      "51     38.963585\n",
      "97     38.955634\n",
      "75     38.860426\n",
      "Name: Exam1, Length: 100, dtype: float64\n"
     ]
    }
   ],
   "source": [
    "# 13524, coef 数据顺序，与 load data相关\n",
    "theta0 = LR2.intercept_\n",
    "theta1,theta3,theta5,theta2,theta4 = LR2.coef_[0][0],LR2.coef_[0][1],LR2.coef_[0][2],LR2.coef_[0][3],LR2.coef_[0][4]\n",
    "a = theta4\n",
    "b = theta5*X1_new+theta2\n",
    "c = theta0+theta1*X1_new+theta3*X1_new*X1_new\n",
    "X2_new_boundary = (-b+np.sqrt(b*b-4*a*c))/(2*a)\n",
    "\n",
    "print(X2_new_boundary)"
   ]
  },
  {
   "cell_type": "code",
   "execution_count": 61,
   "metadata": {},
   "outputs": [
    {
     "data": {
      "image/png": "[encoded data removed]",
      "text/plain": [
       "<Figure size 432x288 with 1 Axes>"
      ]
     },
     "metadata": {
      "needs_background": "light"
     },
     "output_type": "display_data"
    },
    {
     "data": {
      "image/png": "[encoded data removed]",
      "text/plain": [
       "<Figure size 432x288 with 1 Axes>"
      ]
     },
     "metadata": {
      "needs_background": "light"
     },
     "output_type": "display_data"
    }
   ],
   "source": [
    "fig5 = plt.figure()\n",
    "passed=plt.scatter(data.loc[:,'Exam1'][mask],data.loc[:,'Exam2'][mask])\n",
    "failed=plt.scatter(data.loc[:,'Exam1'][~mask],data.loc[:,'Exam2'][~mask])\n",
    "plt.plot(X1_new,X2_new_boundary)\n",
    "plt.title('Exam1-Exam2')\n",
    "plt.xlabel('Exam1')\n",
    "plt.ylabel('Exam2')\n",
    "plt.legend((passed,failed),('passed','failed'))\n",
    "plt.show()\n",
    "\n",
    "plt.plot(X1_new,X2_new_boundary)\n",
    "plt.show()"
   ]
  },
  {
   "cell_type": "code",
   "execution_count": null,
   "metadata": {},
   "outputs": [],
   "source": []
  }
 ],
 "metadata": {
  "kernelspec": {
   "display_name": "Python 3",
   "language": "python",
   "name": "python3"
  },
  "language_info": {
   "codemirror_mode": {
    "name": "ipython",
    "version": 3
   },
   "file_extension": ".py",
   "mimetype": "text/x-python",
   "name": "python",
   "nbconvert_exporter": "python",
   "pygments_lexer": "ipython3",
   "version": "3.6.10"
  }
 },
 "nbformat": 4,
 "nbformat_minor": 4
}
